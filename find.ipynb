{
 "cells": [
  {
   "cell_type": "code",
   "execution_count": null,
   "metadata": {},
   "outputs": [],
   "source": [
    "from pydantic import BaseModel\n"
   ]
  },
  {
   "cell_type": "code",
   "execution_count": null,
   "metadata": {},
   "outputs": [],
   "source": [
    "class Demo(BaseModel):\n",
    "    a: str\n",
    "    b: int\n"
   ]
  },
  {
   "cell_type": "code",
   "execution_count": null,
   "metadata": {},
   "outputs": [],
   "source": [
    "from typing import Any, Callable, T\n",
    "\n",
    "\n",
    "def dataclass_transform(\n",
    "    *,\n",
    "    eq_default: bool = True,\n",
    "    order_default: bool = False,\n",
    "    kw_only_default: bool = False,\n",
    "    field_specifiers: tuple[type[Any] | Callable[..., Any], ...] = (),\n",
    "    **kwargs: Any,\n",
    ") -> Callable[[T], T]:\n",
    "    def decorator(cls_or_fn):\n",
    "        cls_or_fn.__dataclass_transform__ = {\n",
    "            \"eq_default\": eq_default,\n",
    "            \"order_default\": order_default,\n",
    "            \"kw_only_default\": kw_only_default,\n",
    "            \"field_specifiers\": field_specifiers,\n",
    "            \"kwargs\": kwargs,\n",
    "        }\n",
    "        return cls_or_fn\n",
    "    return decorator\n"
   ]
  },
  {
   "cell_type": "code",
   "execution_count": null,
   "metadata": {},
   "outputs": [],
   "source": [
    "@dataclass_transform(eq_default=False, order_default=True)\n",
    "class Demo():\n",
    "    a: str\n"
   ]
  },
  {
   "cell_type": "code",
   "execution_count": null,
   "metadata": {},
   "outputs": [],
   "source": [
    "from abc import ABCMeta\n",
    "\n",
    "\n",
    "def DemoMeta(ABCMeta):\n",
    "    def __new__():\n",
    "        pass\n"
   ]
  },
  {
   "cell_type": "code",
   "execution_count": 1,
   "metadata": {},
   "outputs": [],
   "source": [
    "from pydantic import BaseModel, PrivateAttr\n",
    "\n",
    "\n",
    "class Demo(BaseModel):\n",
    "    a: str\n",
    "    b: int\n",
    "    c: PrivateAttr = 'private demo'\n",
    "\n",
    "\n",
    "class Demo1(Demo):\n",
    "    d: str = 'a'\n"
   ]
  },
  {
   "cell_type": "code",
   "execution_count": 2,
   "metadata": {},
   "outputs": [],
   "source": [
    "a = Demo1(a='1',b=2)"
   ]
  },
  {
   "cell_type": "code",
   "execution_count": 5,
   "metadata": {},
   "outputs": [
    {
     "data": {
      "text/plain": [
       "{}"
      ]
     },
     "execution_count": 5,
     "metadata": {},
     "output_type": "execute_result"
    }
   ],
   "source": [
    "a.model_config"
   ]
  },
  {
   "cell_type": "code",
   "execution_count": 9,
   "metadata": {},
   "outputs": [],
   "source": [
    "from typing import TypedDict\n",
    "\n",
    "class ConfigDict(TypedDict):\n",
    "    host: str\n",
    "    port: int\n",
    "    use_ssl: bool\n",
    "\n",
    "# 使用示例\n",
    "config: ConfigDict = {\n",
    "    \"host\": \"localhost\",\n",
    "    \"port\": 8080,\n",
    "    \"use_ssl\": True\n",
    "}\n",
    "\n",
    "a = ConfigDict(h = 1)"
   ]
  },
  {
   "cell_type": "code",
   "execution_count": 11,
   "metadata": {},
   "outputs": [
    {
     "data": {
      "text/plain": [
       "dict"
      ]
     },
     "execution_count": 11,
     "metadata": {},
     "output_type": "execute_result"
    }
   ],
   "source": [
    "type(a)"
   ]
  }
 ],
 "metadata": {
  "kernelspec": {
   "display_name": "env_sp",
   "language": "python",
   "name": "python3"
  },
  "language_info": {
   "codemirror_mode": {
    "name": "ipython",
    "version": 3
   },
   "file_extension": ".py",
   "mimetype": "text/x-python",
   "name": "python",
   "nbconvert_exporter": "python",
   "pygments_lexer": "ipython3",
   "version": "3.11.3"
  },
  "orig_nbformat": 4
 },
 "nbformat": 4,
 "nbformat_minor": 2
}
